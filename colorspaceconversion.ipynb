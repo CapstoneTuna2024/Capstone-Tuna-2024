{
 "cells": [
  {
   "cell_type": "code",
   "execution_count": null,
   "metadata": {},
   "outputs": [
    {
     "name": "stdout",
     "output_type": "stream",
     "text": [
      "Processed and saved conversions for 1. AAA\n",
      "Processed and saved conversions for 10.AAA\n",
      "Processed and saved conversions for 11.AAA\n",
      "Processed and saved conversions for 2. AAA\n",
      "Processed and saved conversions for 3. AAA\n",
      "Processed and saved conversions for 4.AAA\n",
      "Processed and saved conversions for 5. AAA\n",
      "Processed and saved conversions for 6.AAA\n",
      "Processed and saved conversions for 7.AAA\n",
      "Processed and saved conversions for 8.AAA\n",
      "Processed and saved conversions for 9.AAA\n"
     ]
    }
   ],
   "source": [
    "import cv2\n",
    "import os\n",
    "import glob\n",
    "\n",
    "# Define the folder containing images\n",
    "input_folder = 'C:/Users/naren/OneDrive/Desktop/Telkom/Semester 7/PTA/Dataset/Grade A2'\n",
    "output_folder = 'C:/Users/naren/OneDrive/Desktop/Telkom/Semester 7/PTA/Dataset/Grade A2 (colorspace)'\n",
    "\n",
    "# Create the output folder if it doesn't exist\n",
    "if not os.path.exists(output_folder):\n",
    "    os.makedirs(output_folder)\n",
    "\n",
    "# Supported image formats\n",
    "image_formats = ('*.png', '*.jpg', '*.jpeg')\n",
    "\n",
    "# Loop through each format and get all matching files\n",
    "for format in image_formats:\n",
    "    for image_path in glob.glob(os.path.join(input_folder, format)):\n",
    "        # Load the image\n",
    "        image = cv2.imread(image_path)\n",
    "        if image is None:\n",
    "            print(f\"Could not load {image_path}\")\n",
    "            continue\n",
    "        \n",
    "        # Convert to different color spaces\n",
    "        rgb_image = cv2.cvtColor(image, cv2.COLOR_BGR2RGB)\n",
    "        hsv_image = cv2.cvtColor(image, cv2.COLOR_BGR2HSV)\n",
    "        lab_image = cv2.cvtColor(image, cv2.COLOR_BGR2Lab)\n",
    "        \n",
    "        # Split channels for analysis (optional)\n",
    "        l_channel, a_channel, b_channel = cv2.split(lab_image)\n",
    "        \n",
    "        # Extract the filename without extension\n",
    "        base_name = os.path.splitext(os.path.basename(image_path))[0]\n",
    "\n",
    "        # Save the converted images in the output folder\n",
    "        cv2.imwrite(os.path.join(output_folder, f\"{base_name}_rgb.jpg\"), rgb_image)\n",
    "        cv2.imwrite(os.path.join(output_folder, f\"{base_name}_hsv.jpg\"), hsv_image)\n",
    "        cv2.imwrite(os.path.join(output_folder, f\"{base_name}_lab.jpg\"), lab_image)\n",
    "        cv2.imwrite(os.path.join(output_folder, f\"{base_name}_l_channel.jpg\"), l_channel)\n",
    "        cv2.imwrite(os.path.join(output_folder, f\"{base_name}_a_channel.jpg\"), a_channel)\n",
    "        cv2.imwrite(os.path.join(output_folder, f\"{base_name}_b_channel.jpg\"), b_channel)\n",
    "        \n",
    "        print(f\"Processed and saved conversions for {base_name}\")\n"
   ]
  }
 ],
 "metadata": {
  "kernelspec": {
   "display_name": "Python 3",
   "language": "python",
   "name": "python3"
  },
  "language_info": {
   "codemirror_mode": {
    "name": "ipython",
    "version": 3
   },
   "file_extension": ".py",
   "mimetype": "text/x-python",
   "name": "python",
   "nbconvert_exporter": "python",
   "pygments_lexer": "ipython3",
   "version": "3.11.7"
  }
 },
 "nbformat": 4,
 "nbformat_minor": 2
}
