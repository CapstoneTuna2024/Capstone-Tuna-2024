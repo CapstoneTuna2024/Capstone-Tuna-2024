import cv2
import os
import matplotlib.pyplot as plt

# Define the directory paths
input_dir = 'D:/Telkom/Semester_7/PTA/Dataset/Grade C/Grade C (HP Biru Ternate)/Grade C (LAB)'    # Folder containing the original images
output_dir = 'D:/Telkom/Semester_7/PTA/Dataset/Grade C/Grade C (HP Biru Ternate)/Grade C (LAB + Histogram)'  # Folder to save the processed images

# Create the output directory if it doesn't exist
if not os.path.exists(output_dir):
    os.makedirs(output_dir)

# Initialize CLAHE with specified parameters
# clahe = cv2.createCLAHE(clipLimit=1.0, tileGridSize=(8, 8)) # Subtle contrast improvement without noise
clahe = cv2.createCLAHE(clipLimit=2.0, tileGridSize=(8, 8)) # General use; balanced local contrast
# clahe = cv2.createCLAHE(clipLimit=3.0, tileGridSize=(8, 8)) # Moderate contrast boost, sharper images
# clahe = cv2.createCLAHE(clipLimit=2.0, tileGridSize=(16, 16)) # Softer results, less local enhancement
# clahe = cv2.createCLAHE(clipLimit=2.0, tileGridSize=(4, 4)) # High detail, fine local contrast changes
# clahe = cv2.createCLAHE(clipLimit=4.0, tileGridSize=(4, 4)) # High enhancement, but potential for noise

# Iterate over each file in the input directory
for filename in os.listdir(input_dir):
    # Construct full file path
    file_path = os.path.join(input_dir, filename)

    # Check if the file is an image (e.g., .jpg, .png)
    if filename.lower().endswith(('.jpg', '.jpeg', '.png', '.bmp')):
        # Load the image
        image = cv2.imread(file_path, cv2.IMREAD_COLOR)

        # Verify if the image was loaded correctly
        if image is None:
            print(f"Error: Could not load {filename}. Skipping.")
            continue

        # Convert image to RGB for display (not required for processing)
        image_rgb = cv2.cvtColor(image, cv2.COLOR_BGR2RGB)

        # # Convert to grayscale
        # gray_image = cv2.cvtColor(image, cv2.COLOR_BGR2GRAY)

        # # Apply CLAHE to the grayscale image
        # clahe_image = clahe.apply(gray_image)

        # # Save the CLAHE-enhanced grayscale image
        # output_path_gray = os.path.join(output_dir, f"clahe_{filename}")
        # cv2.imwrite(output_path_gray, clahe_image)
        # print(f"CLAHE-enhanced grayscale image saved at {output_path_gray}")

        # For color images, apply CLAHE to each channel separately
        r, g, b = cv2.split(image_rgb)
        r_clahe = clahe.apply(r)
        g_clahe = clahe.apply(g)
        b_clahe = clahe.apply(b)

        # Merge the CLAHE-enhanced channels and convert back to BGR for OpenCV
        clahe_color_image = cv2.merge([r_clahe, g_clahe, b_clahe])
        clahe_bgr_image = cv2.cvtColor(clahe_color_image, cv2.COLOR_RGB2BGR)

        # Save the CLAHE-enhanced color image
        output_path_color = os.path.join(output_dir, f"clahe_color_{filename}")
        cv2.imwrite(output_path_color, clahe_bgr_image)
        print(f"CLAHE-enhanced color image saved at {output_path_color}")
