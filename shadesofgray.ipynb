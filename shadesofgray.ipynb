def shades_of_gray(image, p=6):
    # Raise each channel to the power `p`
    image_powered = np.power(image.astype(float), p)

    # Calculate mean values of each channel raised to the power `p`
    r_avg = np.mean(image_powered[:, :, 2])
    g_avg = np.mean(image_powered[:, :, 1])
    b_avg = np.mean(image_powered[:, :, 0])
    
    # Calculate scaling factors
    gray_value = (r_avg + g_avg + b_avg) / 3
    kr, kg, kb = gray_value / r_avg, gray_value / g_avg, gray_value / b_avg

    # Scale each channel by its factor
    image[:, :, 2] = cv2.multiply(image[:, :, 2], kr)
    image[:, :, 1] = cv2.multiply(image[:, :, 1], kg)
    image[:, :, 0] = cv2.multiply(image[:, :, 0], kb)
    
    return image

# Load and apply Shades of Gray
image_path = 'tuna_loin_sample.jpg'
image = cv2.imread(image_path)
image_corrected = shades_of_gray(image, p=6)

# Save and display
cv2.imwrite('shades_of_gray_corrected.jpg', image_corrected)
print("Shades of Gray color corrected image saved as shades_of_gray_corrected.jpg.")
